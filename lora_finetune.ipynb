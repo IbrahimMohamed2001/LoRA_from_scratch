{
 "cells": [
  {
   "cell_type": "markdown",
   "metadata": {},
   "source": [
    "# LoRA From Scratch – Implement Low-Rank Adaptation for LLMs in PyTorch"
   ]
  },
  {
   "cell_type": "code",
   "execution_count": 5,
   "metadata": {},
   "outputs": [],
   "source": [
    "import torch\n",
    "import torch.nn as nn\n",
    "from transformers import AutoModelForSequenceClassification, AutoTokenizer\n",
    "from config import get_lora_config\n",
    "from datasets import load_dataset"
   ]
  },
  {
   "cell_type": "code",
   "execution_count": 2,
   "metadata": {},
   "outputs": [],
   "source": [
    "def count_parameters(model):\n",
    "    return sum(p.numel() for p in model.parameters())\n",
    "\n",
    "def count_trainable_parameters(model):\n",
    "    return sum(p.numel() for p in model.parameters() if p.requires_grad)"
   ]
  },
  {
   "cell_type": "code",
   "execution_count": 3,
   "metadata": {},
   "outputs": [],
   "source": [
    "class LoRALayer(nn.Module):\n",
    "    \"\"\"\n",
    "    Implements the Low-Rank Adaptive Linear Transformation (LoRA) layer.\n",
    "\n",
    "    This layer performs a linear transformation with learnable low-rank factors,\n",
    "    reducing computational cost and potentially improving model performance.\n",
    "\n",
    "    Args:\n",
    "        fan_in: Number of input features (int).\n",
    "        fan_out: Number of output features (int).\n",
    "        rank: Rank of the low-rank factors (int).\n",
    "        alpha: Hyperparameter scaling the output (int).\n",
    "\n",
    "    Attributes:\n",
    "        alpha: Hyperparameter scaling the output (int).\n",
    "        A: Low-rank factor matrix of shape (fan_in, rank) (float tensor).\n",
    "        B: Low-rank factor matrix of shape (rank, fan_out) (float tensor).\n",
    "\n",
    "    Inputs:\n",
    "        x: Input tensor of shape (..., fan_in) (float tensor).\n",
    "\n",
    "    Outputs:\n",
    "        Transformed tensor of shape (..., fan_out) (float tensor).\n",
    "    \"\"\"\n",
    "\n",
    "    def __init__(self, fan_in: int, fan_out: int, rank: int, alpha: int):\n",
    "        super().__init__()\n",
    "        self.alpha = alpha\n",
    "        std = torch.tensor(rank, dtype=torch.float) ** -0.5\n",
    "        self.A = nn.Parameter(torch.randn(fan_in, rank) * std)\n",
    "        self.B = nn.Parameter(torch.zeros(rank, fan_out))\n",
    "\n",
    "    def forward(self, x: torch.Tensor) -> torch.Tensor:\n",
    "        return self.alpha * (x @ self.A @ self.B)"
   ]
  },
  {
   "cell_type": "code",
   "execution_count": 4,
   "metadata": {},
   "outputs": [
    {
     "data": {
      "text/plain": [
       "(100010000, 160000)"
      ]
     },
     "execution_count": 4,
     "metadata": {},
     "output_type": "execute_result"
    }
   ],
   "source": [
    "linear_layer = nn.Linear(10_000, 10_000)\n",
    "lora_layer = LoRALayer(10_000, 10_000, 8, 4)\n",
    "count_parameters(linear_layer), count_parameters(lora_layer) # (10_000 * 10_000 + 10_000), (10_000 * 8 * 2)"
   ]
  },
  {
   "cell_type": "code",
   "execution_count": 5,
   "metadata": {},
   "outputs": [
    {
     "data": {
      "text/plain": [
       "(torch.Size([50, 10000]), torch.Size([50, 10000]))"
      ]
     },
     "execution_count": 5,
     "metadata": {},
     "output_type": "execute_result"
    }
   ],
   "source": [
    "x = torch.randn(50, 10_000)\n",
    "out_linear = linear_layer(x)\n",
    "out_lora = lora_layer(x)\n",
    "out_linear.shape, out_lora.shape # the same shape (50, 10_000)"
   ]
  },
  {
   "cell_type": "code",
   "execution_count": 6,
   "metadata": {},
   "outputs": [],
   "source": [
    "class LinearWithLoRA(nn.Module):\n",
    "    \"\"\"\n",
    "    Combines a linear layer with a LoRALayer to perform a combined transformation.\n",
    "\n",
    "    This module wraps a linear layer and adds a LoRALayer in parallel. The\n",
    "    output is the sum of the linear layer's output and the LoRALayer's output.\n",
    "\n",
    "    Args:\n",
    "        linear_layer: The original linear layer to be wrapped (nn.Module).\n",
    "        rank: Rank of the low-rank factors in the LoRALayer (int).\n",
    "        alpha: Hyperparameter scaling the LoRALayer output (int).\n",
    "\n",
    "    Attributes:\n",
    "        linear_layer: Original linear layer (frozen, nn.Module).\n",
    "        alpha: Hyperparameter scaling the LoRALayer output (int).\n",
    "        lora_layer: LoRALayer instance (nn.Module).\n",
    "\n",
    "    Inputs:\n",
    "        x: Input tensor of shape (..., in_features) (float tensor).\n",
    "\n",
    "    Outputs:\n",
    "        Transformed tensor of shape (..., out_features) (float tensor).\n",
    "    \"\"\"\n",
    "\n",
    "    def __init__(self, linear_layer: nn.Module, rank: int, alpha: int):\n",
    "        super().__init__()\n",
    "        self.linear_layer = linear_layer\n",
    "        self.alpha = alpha\n",
    "        self.lora_layer = LoRALayer(linear_layer.in_features, linear_layer.out_features, rank, alpha)\n",
    "\n",
    "    def forward(self, x):\n",
    "        return self.linear_layer(x) + self.lora_layer(x)"
   ]
  },
  {
   "cell_type": "code",
   "execution_count": 11,
   "metadata": {},
   "outputs": [
    {
     "name": "stdout",
     "output_type": "stream",
     "text": [
      "100010000\n"
     ]
    },
    {
     "data": {
      "text/plain": [
       "160000"
      ]
     },
     "execution_count": 11,
     "metadata": {},
     "output_type": "execute_result"
    }
   ],
   "source": [
    "print(count_trainable_parameters(linear_layer))\n",
    "linear_with_lora = LinearWithLoRA(linear_layer, 8, 4)\n",
    "linear_layer.requires_grad_(False)\n",
    "count_trainable_parameters(linear_with_lora)"
   ]
  },
  {
   "cell_type": "code",
   "execution_count": 8,
   "metadata": {},
   "outputs": [
    {
     "name": "stderr",
     "output_type": "stream",
     "text": [
      "Some weights of the model checkpoint at distilbert-base-uncased were not used when initializing DistilBertForSequenceClassification: ['vocab_layer_norm.weight', 'vocab_projector.bias', 'vocab_transform.weight', 'vocab_transform.bias', 'vocab_layer_norm.bias', 'vocab_projector.weight']\n",
      "- This IS expected if you are initializing DistilBertForSequenceClassification from the checkpoint of a model trained on another task or with another architecture (e.g. initializing a BertForSequenceClassification model from a BertForPreTraining model).\n",
      "- This IS NOT expected if you are initializing DistilBertForSequenceClassification from the checkpoint of a model that you expect to be exactly identical (initializing a BertForSequenceClassification model from a BertForSequenceClassification model).\n",
      "Some weights of DistilBertForSequenceClassification were not initialized from the model checkpoint at distilbert-base-uncased and are newly initialized: ['classifier.weight', 'pre_classifier.bias', 'pre_classifier.weight', 'classifier.bias']\n",
      "You should probably TRAIN this model on a down-stream task to be able to use it for predictions and inference.\n"
     ]
    },
    {
     "name": "stdout",
     "output_type": "stream",
     "text": [
      "DistilBertForSequenceClassification(\n",
      "  (distilbert): DistilBertModel(\n",
      "    (embeddings): Embeddings(\n",
      "      (word_embeddings): Embedding(30522, 768, padding_idx=0)\n",
      "      (position_embeddings): Embedding(512, 768)\n",
      "      (LayerNorm): LayerNorm((768,), eps=1e-12, elementwise_affine=True)\n",
      "      (dropout): Dropout(p=0.1, inplace=False)\n",
      "    )\n",
      "    (transformer): Transformer(\n",
      "      (layer): ModuleList(\n",
      "        (0-5): 6 x TransformerBlock(\n",
      "          (attention): MultiHeadSelfAttention(\n",
      "            (dropout): Dropout(p=0.1, inplace=False)\n",
      "            (q_lin): Linear(in_features=768, out_features=768, bias=True)\n",
      "            (k_lin): Linear(in_features=768, out_features=768, bias=True)\n",
      "            (v_lin): Linear(in_features=768, out_features=768, bias=True)\n",
      "            (out_lin): Linear(in_features=768, out_features=768, bias=True)\n",
      "          )\n",
      "          (sa_layer_norm): LayerNorm((768,), eps=1e-12, elementwise_affine=True)\n",
      "          (ffn): FFN(\n",
      "            (dropout): Dropout(p=0.1, inplace=False)\n",
      "            (lin1): Linear(in_features=768, out_features=3072, bias=True)\n",
      "            (lin2): Linear(in_features=3072, out_features=768, bias=True)\n",
      "            (activation): GELUActivation()\n",
      "          )\n",
      "          (output_layer_norm): LayerNorm((768,), eps=1e-12, elementwise_affine=True)\n",
      "        )\n",
      "      )\n",
      "    )\n",
      "  )\n",
      "  (pre_classifier): Linear(in_features=768, out_features=768, bias=True)\n",
      "  (classifier): Linear(in_features=768, out_features=2, bias=True)\n",
      "  (dropout): Dropout(p=0.2, inplace=False)\n",
      ")\n"
     ]
    }
   ],
   "source": [
    "model = AutoModelForSequenceClassification.from_pretrained(\"distilbert-base-uncased\", num_labels=2)\n",
    "print(model)"
   ]
  },
  {
   "cell_type": "code",
   "execution_count": 9,
   "metadata": {},
   "outputs": [],
   "source": [
    "def lora_model(model: nn.Module, config: dict = None, **kwargs) -> nn.Module:\n",
    "    \"\"\"\n",
    "    Applies LoRA (Low-Rank Adaptive Linear Transformation) to a pre-trained model.\n",
    "\n",
    "    This function selectively replaces linear layers within a model with\n",
    "    corresponding LoRALayer instances based on a configuration dictionary.\n",
    "    The configuration specifies which parts of the model to apply LoRA to\n",
    "    and hyperparameters like rank and alpha.\n",
    "\n",
    "    Args:\n",
    "        model: The pre-trained model to be modified (nn.Module).\n",
    "        config: Optional dictionary containing LoRA configuration (default: None).\n",
    "                If not provided, a default configuration is retrieved using\n",
    "                `get_lora_config` (kwargs are passed to this function).\n",
    "        **kwargs: Additional keyword arguments passed to `get_lora_config`.\n",
    "\n",
    "    Returns:\n",
    "        The modified model with LoRA layers applied (nn.Module).\n",
    "    \"\"\"\n",
    "\n",
    "    # Ensure config is available\n",
    "    if config is None:\n",
    "        config = get_lora_config(**kwargs)\n",
    "\n",
    "    # Freeze the pre-trained model parameters\n",
    "    model.requires_grad_(False)\n",
    "\n",
    "    def assign_lora(linear_layer):\n",
    "        return LinearWithLoRA(linear_layer, rank=config[\"lora_rank\"], alpha=config[\"lora_alpha\"])\n",
    "\n",
    "    for layer in model.distilbert.transformer.layer:\n",
    "        if config['lora_query']:\n",
    "            layer.attention.q_lin = assign_lora(layer.attention.q_lin)\n",
    "        if config['lora_key']:\n",
    "            layer.attention.k_lin = assign_lora(layer.attention.k_lin)\n",
    "        if config['lora_value']:\n",
    "            layer.attention.v_lin = assign_lora(layer.attention.v_lin)\n",
    "        if config['lora_projection']:\n",
    "            layer.attention.out_lin = assign_lora(layer.attention.out_lin)\n",
    "        if config['lora_ffn']:\n",
    "            layer.ffn.lin1 = assign_lora(layer.ffn.lin1)\n",
    "            layer.ffn.lin2 = assign_lora(layer.ffn.lin2)\n",
    "\n",
    "    if config['lora_head']:\n",
    "        model.pre_classifier = assign_lora(model.pre_classifier)\n",
    "        model.classifier = assign_lora(model.classifier)\n",
    "\n",
    "    return model"
   ]
  },
  {
   "cell_type": "code",
   "execution_count": 10,
   "metadata": {},
   "outputs": [
    {
     "name": "stdout",
     "output_type": "stream",
     "text": [
      "66955010\n",
      "66955010\n",
      "67637010\n",
      "682000\n"
     ]
    }
   ],
   "source": [
    "print(count_parameters(model))\n",
    "print(count_trainable_parameters(model))\n",
    "\n",
    "model = lora_model(model)\n",
    "\n",
    "print(count_parameters(model))\n",
    "print(count_trainable_parameters(model))"
   ]
  },
  {
   "cell_type": "code",
   "execution_count": 4,
   "metadata": {},
   "outputs": [
    {
     "name": "stderr",
     "output_type": "stream",
     "text": [
      "Some weights of the model checkpoint at distilbert-base-uncased were not used when initializing DistilBertForSequenceClassification: ['vocab_layer_norm.weight', 'vocab_layer_norm.bias', 'vocab_projector.bias', 'vocab_projector.weight', 'vocab_transform.weight', 'vocab_transform.bias']\n",
      "- This IS expected if you are initializing DistilBertForSequenceClassification from the checkpoint of a model trained on another task or with another architecture (e.g. initializing a BertForSequenceClassification model from a BertForPreTraining model).\n",
      "- This IS NOT expected if you are initializing DistilBertForSequenceClassification from the checkpoint of a model that you expect to be exactly identical (initializing a BertForSequenceClassification model from a BertForSequenceClassification model).\n",
      "Some weights of DistilBertForSequenceClassification were not initialized from the model checkpoint at distilbert-base-uncased and are newly initialized: ['pre_classifier.bias', 'classifier.bias', 'classifier.weight', 'pre_classifier.weight']\n",
      "You should probably TRAIN this model on a down-stream task to be able to use it for predictions and inference.\n"
     ]
    },
    {
     "data": {
      "application/vnd.jupyter.widget-view+json": {
       "model_id": "00681d7e36564683ac3d3e5fc2aa7b43",
       "version_major": 2,
       "version_minor": 0
      },
      "text/plain": [
       "tokenizer_config.json:   0%|          | 0.00/28.0 [00:00<?, ?B/s]"
      ]
     },
     "metadata": {},
     "output_type": "display_data"
    },
    {
     "name": "stderr",
     "output_type": "stream",
     "text": [
      "c:\\Users\\wwww\\anaconda3\\lib\\site-packages\\huggingface_hub\\file_download.py:149: UserWarning: `huggingface_hub` cache-system uses symlinks by default to efficiently store duplicated files but your machine does not support them in C:\\Users\\wwww\\.cache\\huggingface\\hub\\models--distilbert-base-uncased. Caching files will still work but in a degraded version that might require more space on your disk. This warning can be disabled by setting the `HF_HUB_DISABLE_SYMLINKS_WARNING` environment variable. For more details, see https://huggingface.co/docs/huggingface_hub/how-to-cache#limitations.\n",
      "To support symlinks on Windows, you either need to activate Developer Mode or to run Python as an administrator. In order to see activate developer mode, see this article: https://docs.microsoft.com/en-us/windows/apps/get-started/enable-your-device-for-development\n",
      "  warnings.warn(message)\n"
     ]
    },
    {
     "data": {
      "application/vnd.jupyter.widget-view+json": {
       "model_id": "6506314eccda462cb47fc6f4258da500",
       "version_major": 2,
       "version_minor": 0
      },
      "text/plain": [
       "vocab.txt:   0%|          | 0.00/232k [00:00<?, ?B/s]"
      ]
     },
     "metadata": {},
     "output_type": "display_data"
    },
    {
     "data": {
      "application/vnd.jupyter.widget-view+json": {
       "model_id": "c274a2e70f8a4dfa8f140b9659209ac0",
       "version_major": 2,
       "version_minor": 0
      },
      "text/plain": [
       "tokenizer.json:   0%|          | 0.00/466k [00:00<?, ?B/s]"
      ]
     },
     "metadata": {},
     "output_type": "display_data"
    }
   ],
   "source": [
    "model = AutoModelForSequenceClassification.from_pretrained(\"distilbert-base-uncased\", num_labels=2)\n",
    "tokenizer = AutoTokenizer.from_pretrained(\"distilbert-base-uncased\")"
   ]
  },
  {
   "cell_type": "code",
   "execution_count": 8,
   "metadata": {},
   "outputs": [
    {
     "name": "stderr",
     "output_type": "stream",
     "text": [
      "Using the latest cached version of the module from C:\\Users\\wwww\\.cache\\huggingface\\modules\\datasets_modules\\datasets\\dair-ai--emotion\\cca5efe2dfeb58c1d098e0f9eeb200e9927d889b5a03c67097275dfb5fe463bd (last modified on Wed Mar 13 22:45:14 2024) since it couldn't be found locally at dair-ai/emotion, or remotely on the Hugging Face Hub.\n"
     ]
    },
    {
     "name": "stdout",
     "output_type": "stream",
     "text": [
      "Dataset name: dair-ai/emotion\n",
      "Available splits: ['train', 'validation', 'test']\n",
      "Sample data point: {'text': 'i didnt feel humiliated', 'label': 0}\n"
     ]
    }
   ],
   "source": [
    "dataset_name = \"dair-ai/emotion\"\n",
    "\n",
    "dataset = load_dataset(dataset_name, )\n",
    "\n",
    "print(f\"Dataset name: {dataset_name}\")\n",
    "print(f\"Available splits: {list(dataset.keys())}\")\n",
    "\n",
    "train_data = dataset[\"train\"]\n",
    "\n",
    "print(f\"Sample data point: {train_data[0]}\")\n"
   ]
  },
  {
   "cell_type": "code",
   "execution_count": 9,
   "metadata": {},
   "outputs": [
    {
     "data": {
      "text/plain": [
       "DatasetDict({\n",
       "    train: Dataset({\n",
       "        features: ['text', 'label'],\n",
       "        num_rows: 16000\n",
       "    })\n",
       "    validation: Dataset({\n",
       "        features: ['text', 'label'],\n",
       "        num_rows: 2000\n",
       "    })\n",
       "    test: Dataset({\n",
       "        features: ['text', 'label'],\n",
       "        num_rows: 2000\n",
       "    })\n",
       "})"
      ]
     },
     "execution_count": 9,
     "metadata": {},
     "output_type": "execute_result"
    }
   ],
   "source": [
    "dataset"
   ]
  },
  {
   "cell_type": "code",
   "execution_count": 10,
   "metadata": {},
   "outputs": [
    {
     "data": {
      "text/plain": [
       "16000"
      ]
     },
     "execution_count": 10,
     "metadata": {},
     "output_type": "execute_result"
    }
   ],
   "source": [
    "len(train_data)"
   ]
  },
  {
   "cell_type": "code",
   "execution_count": 11,
   "metadata": {},
   "outputs": [],
   "source": [
    "def tokenize_text(batch):\n",
    "    return "
   ]
  },
  {
   "cell_type": "code",
   "execution_count": 12,
   "metadata": {},
   "outputs": [],
   "source": [
    "batch = {'text': 'i did not feel humiliated', 'label': 0}\n",
    "out = tokenize_text(batch)"
   ]
  },
  {
   "cell_type": "code",
   "execution_count": 13,
   "metadata": {},
   "outputs": [
    {
     "data": {
      "text/plain": [
       "{'input_ids': [101, 1045, 2106, 2025, 2514, 26608, 102], 'attention_mask': [1, 1, 1, 1, 1, 1, 1]}"
      ]
     },
     "execution_count": 13,
     "metadata": {},
     "output_type": "execute_result"
    }
   ],
   "source": [
    "out"
   ]
  },
  {
   "cell_type": "code",
   "execution_count": 14,
   "metadata": {},
   "outputs": [],
   "source": [
    "import torch\n",
    "from torch.utils.data import Dataset\n",
    "\n",
    "\n",
    "class EmotionDataset(Dataset):\n",
    "    def __init__(self, dataset, tokenizer, partition_key=\"train\") -> None:\n",
    "        super().__init__()\n",
    "        self.partition = dataset[partition_key]\n",
    "        self.tokenizer = tokenizer\n",
    "\n",
    "    def __len__(self):\n",
    "        return len(self.partition)\n",
    "\n",
    "    def __getitem__(self, index):\n",
    "        text = self.partition[index]['text']\n",
    "        label = torch.tensor(self.partition[index]['label'], dtype=torch.int8)\n",
    "\n",
    "        tokenized = self.tokenizer(text, truncation=True, padding=True)\n",
    "        input_ids = torch.tensor(tokenized['input_ids'], dtype=torch.int64)\n",
    "        attention_mask = torch.tensor(tokenized['attention_mask'], dtype=torch.int8)\n",
    "\n",
    "        return {\n",
    "            'text': text,\n",
    "            'label': label,\n",
    "            'input_ids': input_ids,\n",
    "            'attention_mask': attention_mask\n",
    "        }\n"
   ]
  },
  {
   "cell_type": "code",
   "execution_count": 15,
   "metadata": {},
   "outputs": [],
   "source": [
    "train_dataset = EmotionDataset(dataset, tokenizer, 'train')"
   ]
  },
  {
   "cell_type": "code",
   "execution_count": 17,
   "metadata": {},
   "outputs": [
    {
     "data": {
      "text/plain": [
       "{'text': 'i didnt feel humiliated',\n",
       " 'label': tensor(0, dtype=torch.int8),\n",
       " 'input_ids': tensor([  101,  1045,  2134,  2102,  2514, 26608,   102]),\n",
       " 'attention_mask': tensor([1, 1, 1, 1, 1, 1, 1], dtype=torch.int8)}"
      ]
     },
     "execution_count": 17,
     "metadata": {},
     "output_type": "execute_result"
    }
   ],
   "source": [
    "train_dataset[0]"
   ]
  },
  {
   "cell_type": "code",
   "execution_count": null,
   "metadata": {},
   "outputs": [],
   "source": []
  }
 ],
 "metadata": {
  "kernelspec": {
   "display_name": "base",
   "language": "python",
   "name": "python3"
  },
  "language_info": {
   "codemirror_mode": {
    "name": "ipython",
    "version": 3
   },
   "file_extension": ".py",
   "mimetype": "text/x-python",
   "name": "python",
   "nbconvert_exporter": "python",
   "pygments_lexer": "ipython3",
   "version": "3.9.13"
  }
 },
 "nbformat": 4,
 "nbformat_minor": 2
}
