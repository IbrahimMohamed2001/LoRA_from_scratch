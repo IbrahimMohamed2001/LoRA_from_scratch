{
 "cells": [
  {
   "cell_type": "markdown",
   "metadata": {},
   "source": [
    "# LoRA From Scratch – Implement Low-Rank Adaptation for LLMs in PyTorch"
   ]
  },
  {
   "cell_type": "code",
   "execution_count": 1,
   "metadata": {},
   "outputs": [],
   "source": [
    "import torch\n",
    "import torch.nn as nn\n",
    "from transformers import AutoModelForSequenceClassification\n",
    "from config import get_lora_config"
   ]
  },
  {
   "cell_type": "code",
   "execution_count": 2,
   "metadata": {},
   "outputs": [],
   "source": [
    "count_parameters = lambda model: sum(p.numel() for p in model.parameters())\n",
    "count_trainable_parameters = lambda model: sum(p.numel() for p in model.parameters() if p.requires_grad)"
   ]
  },
  {
   "cell_type": "code",
   "execution_count": 3,
   "metadata": {},
   "outputs": [],
   "source": [
    "class LoRALayer(nn.Module):\n",
    "    \"\"\"\n",
    "    Implements the Low-Rank Adaptive Linear Transformation (LoRA) layer.\n",
    "\n",
    "    This layer performs a linear transformation with learnable low-rank factors,\n",
    "    reducing computational cost and potentially improving model performance.\n",
    "\n",
    "    Args:\n",
    "        fan_in: Number of input features (int).\n",
    "        fan_out: Number of output features (int).\n",
    "        rank: Rank of the low-rank factors (int).\n",
    "        alpha: Hyperparameter scaling the output (int).\n",
    "\n",
    "    Attributes:\n",
    "        alpha: Hyperparameter scaling the output (int).\n",
    "        A: Low-rank factor matrix of shape (fan_in, rank) (float tensor).\n",
    "        B: Low-rank factor matrix of shape (rank, fan_out) (float tensor).\n",
    "\n",
    "    Inputs:\n",
    "        x: Input tensor of shape (..., fan_in) (float tensor).\n",
    "\n",
    "    Outputs:\n",
    "        Transformed tensor of shape (..., fan_out) (float tensor).\n",
    "    \"\"\"\n",
    "\n",
    "    def __init__(self, fan_in: int, fan_out: int, rank: int, alpha: int):\n",
    "        super().__init__()\n",
    "        self.alpha = alpha\n",
    "        std = torch.tensor(rank, dtype=torch.float) ** -0.5\n",
    "        self.A = nn.Parameter(torch.randn(fan_in, rank) * std)\n",
    "        self.B = nn.Parameter(torch.zeros(rank, fan_out))\n",
    "\n",
    "    def forward(self, x: torch.Tensor) -> torch.Tensor:\n",
    "        return self.alpha * (x @ self.A @ self.B)"
   ]
  },
  {
   "cell_type": "code",
   "execution_count": 4,
   "metadata": {},
   "outputs": [
    {
     "data": {
      "text/plain": [
       "(100010000, 160000)"
      ]
     },
     "execution_count": 4,
     "metadata": {},
     "output_type": "execute_result"
    }
   ],
   "source": [
    "linear_layer = nn.Linear(10_000, 10_000)\n",
    "lora_layer = LoRALayer(10_000, 10_000, 8, 4)\n",
    "count_parameters(linear_layer), count_parameters(lora_layer) # (10_000 * 10_000 + 10_000), (10_000 * 8 * 2)"
   ]
  },
  {
   "cell_type": "code",
   "execution_count": 5,
   "metadata": {},
   "outputs": [
    {
     "data": {
      "text/plain": [
       "(torch.Size([50, 10000]), torch.Size([50, 10000]))"
      ]
     },
     "execution_count": 5,
     "metadata": {},
     "output_type": "execute_result"
    }
   ],
   "source": [
    "x = torch.randn(50, 10_000)\n",
    "out_linear = linear_layer(x)\n",
    "out_lora = lora_layer(x)\n",
    "out_linear.shape, out_lora.shape # the same shape (50, 10_000)"
   ]
  },
  {
   "cell_type": "code",
   "execution_count": 6,
   "metadata": {},
   "outputs": [],
   "source": [
    "class LinearWithLoRA(nn.Module):\n",
    "    \"\"\"\n",
    "    Combines a linear layer with a LoRALayer to perform a combined transformation.\n",
    "\n",
    "    This module wraps a linear layer and adds a LoRALayer in parallel. The\n",
    "    output is the sum of the linear layer's output and the LoRALayer's output.\n",
    "\n",
    "    Args:\n",
    "        linear_layer: The original linear layer to be wrapped (nn.Module).\n",
    "        rank: Rank of the low-rank factors in the LoRALayer (int).\n",
    "        alpha: Hyperparameter scaling the LoRALayer output (int).\n",
    "\n",
    "    Attributes:\n",
    "        linear_layer: Original linear layer (frozen, nn.Module).\n",
    "        alpha: Hyperparameter scaling the LoRALayer output (int).\n",
    "        lora_layer: LoRALayer instance (nn.Module).\n",
    "\n",
    "    Inputs:\n",
    "        x: Input tensor of shape (..., in_features) (float tensor).\n",
    "\n",
    "    Outputs:\n",
    "        Transformed tensor of shape (..., out_features) (float tensor).\n",
    "    \"\"\"\n",
    "\n",
    "    def __init__(self, linear_layer: nn.Module, rank: int, alpha: int):\n",
    "        super().__init__()\n",
    "        self.linear_layer = linear_layer\n",
    "        self.alpha = alpha\n",
    "        self.lora_layer = LoRALayer(linear_layer.in_features, linear_layer.out_features, rank, alpha)\n",
    "\n",
    "    def forward(self, x):\n",
    "        return self.linear_layer(x) + self.lora_layer(x)"
   ]
  },
  {
   "cell_type": "code",
   "execution_count": 11,
   "metadata": {},
   "outputs": [
    {
     "name": "stdout",
     "output_type": "stream",
     "text": [
      "100010000\n"
     ]
    },
    {
     "data": {
      "text/plain": [
       "160000"
      ]
     },
     "execution_count": 11,
     "metadata": {},
     "output_type": "execute_result"
    }
   ],
   "source": [
    "print(count_trainable_parameters(linear_layer))\n",
    "linear_with_lora = LinearWithLoRA(linear_layer, 8, 4)\n",
    "linear_layer.requires_grad_(False)\n",
    "count_trainable_parameters(linear_with_lora)"
   ]
  },
  {
   "cell_type": "code",
   "execution_count": 8,
   "metadata": {},
   "outputs": [
    {
     "name": "stderr",
     "output_type": "stream",
     "text": [
      "Some weights of the model checkpoint at distilbert-base-uncased were not used when initializing DistilBertForSequenceClassification: ['vocab_layer_norm.weight', 'vocab_projector.bias', 'vocab_transform.weight', 'vocab_transform.bias', 'vocab_layer_norm.bias', 'vocab_projector.weight']\n",
      "- This IS expected if you are initializing DistilBertForSequenceClassification from the checkpoint of a model trained on another task or with another architecture (e.g. initializing a BertForSequenceClassification model from a BertForPreTraining model).\n",
      "- This IS NOT expected if you are initializing DistilBertForSequenceClassification from the checkpoint of a model that you expect to be exactly identical (initializing a BertForSequenceClassification model from a BertForSequenceClassification model).\n",
      "Some weights of DistilBertForSequenceClassification were not initialized from the model checkpoint at distilbert-base-uncased and are newly initialized: ['classifier.weight', 'pre_classifier.bias', 'pre_classifier.weight', 'classifier.bias']\n",
      "You should probably TRAIN this model on a down-stream task to be able to use it for predictions and inference.\n"
     ]
    },
    {
     "name": "stdout",
     "output_type": "stream",
     "text": [
      "DistilBertForSequenceClassification(\n",
      "  (distilbert): DistilBertModel(\n",
      "    (embeddings): Embeddings(\n",
      "      (word_embeddings): Embedding(30522, 768, padding_idx=0)\n",
      "      (position_embeddings): Embedding(512, 768)\n",
      "      (LayerNorm): LayerNorm((768,), eps=1e-12, elementwise_affine=True)\n",
      "      (dropout): Dropout(p=0.1, inplace=False)\n",
      "    )\n",
      "    (transformer): Transformer(\n",
      "      (layer): ModuleList(\n",
      "        (0-5): 6 x TransformerBlock(\n",
      "          (attention): MultiHeadSelfAttention(\n",
      "            (dropout): Dropout(p=0.1, inplace=False)\n",
      "            (q_lin): Linear(in_features=768, out_features=768, bias=True)\n",
      "            (k_lin): Linear(in_features=768, out_features=768, bias=True)\n",
      "            (v_lin): Linear(in_features=768, out_features=768, bias=True)\n",
      "            (out_lin): Linear(in_features=768, out_features=768, bias=True)\n",
      "          )\n",
      "          (sa_layer_norm): LayerNorm((768,), eps=1e-12, elementwise_affine=True)\n",
      "          (ffn): FFN(\n",
      "            (dropout): Dropout(p=0.1, inplace=False)\n",
      "            (lin1): Linear(in_features=768, out_features=3072, bias=True)\n",
      "            (lin2): Linear(in_features=3072, out_features=768, bias=True)\n",
      "            (activation): GELUActivation()\n",
      "          )\n",
      "          (output_layer_norm): LayerNorm((768,), eps=1e-12, elementwise_affine=True)\n",
      "        )\n",
      "      )\n",
      "    )\n",
      "  )\n",
      "  (pre_classifier): Linear(in_features=768, out_features=768, bias=True)\n",
      "  (classifier): Linear(in_features=768, out_features=2, bias=True)\n",
      "  (dropout): Dropout(p=0.2, inplace=False)\n",
      ")\n"
     ]
    }
   ],
   "source": [
    "model = AutoModelForSequenceClassification.from_pretrained(\"distilbert-base-uncased\", num_labels=2)\n",
    "print(model)"
   ]
  },
  {
   "cell_type": "code",
   "execution_count": 9,
   "metadata": {},
   "outputs": [],
   "source": [
    "def lora_model(model: nn.Module, config: dict = None, **kwargs) -> nn.Module:\n",
    "    \"\"\"\n",
    "    Applies LoRA (Low-Rank Adaptive Linear Transformation) to a pre-trained model.\n",
    "\n",
    "    This function selectively replaces linear layers within a model with\n",
    "    corresponding LoRALayer instances based on a configuration dictionary.\n",
    "    The configuration specifies which parts of the model to apply LoRA to\n",
    "    and hyperparameters like rank and alpha.\n",
    "\n",
    "    Args:\n",
    "        model: The pre-trained model to be modified (nn.Module).\n",
    "        config: Optional dictionary containing LoRA configuration (default: None).\n",
    "                If not provided, a default configuration is retrieved using\n",
    "                `get_lora_config` (kwargs are passed to this function).\n",
    "        **kwargs: Additional keyword arguments passed to `get_lora_config`.\n",
    "\n",
    "    Returns:\n",
    "        The modified model with LoRA layers applied (nn.Module).\n",
    "    \"\"\"\n",
    "\n",
    "    # Ensure config is available\n",
    "    if config is None:\n",
    "        config = get_lora_config(**kwargs)\n",
    "\n",
    "    # Freeze the pre-trained model parameters\n",
    "    model.requires_grad_(False)\n",
    "\n",
    "    assign_lora = lambda linear_layer: LinearWithLoRA(linear_layer, rank=config['lora_rank'], alpha=config['lora_alpha'])\n",
    "\n",
    "    for layer in model.distilbert.transformer.layer:\n",
    "        if config['lora_query']:\n",
    "            layer.attention.q_lin = assign_lora(layer.attention.q_lin)\n",
    "        if config['lora_key']:\n",
    "            layer.attention.k_lin = assign_lora(layer.attention.k_lin)\n",
    "        if config['lora_value']:\n",
    "            layer.attention.v_lin = assign_lora(layer.attention.v_lin)\n",
    "        if config['lora_projection']:\n",
    "            layer.attention.out_lin = assign_lora(layer.attention.out_lin)\n",
    "        if config['lora_ffn']:\n",
    "            layer.ffn.lin1 = assign_lora(layer.ffn.lin1)\n",
    "            layer.ffn.lin2 = assign_lora(layer.ffn.lin2)\n",
    "\n",
    "    if config['lora_head']:\n",
    "        model.pre_classifier = assign_lora(model.pre_classifier)\n",
    "        model.classifier = assign_lora(model.classifier)\n",
    "\n",
    "    return model"
   ]
  },
  {
   "cell_type": "code",
   "execution_count": 10,
   "metadata": {},
   "outputs": [
    {
     "name": "stdout",
     "output_type": "stream",
     "text": [
      "66955010\n",
      "66955010\n",
      "67637010\n",
      "682000\n"
     ]
    }
   ],
   "source": [
    "print(count_parameters(model))\n",
    "print(count_trainable_parameters(model))\n",
    "\n",
    "model = lora_model(model)\n",
    "\n",
    "print(count_parameters(model))\n",
    "print(count_trainable_parameters(model))"
   ]
  },
  {
   "cell_type": "code",
   "execution_count": null,
   "metadata": {},
   "outputs": [],
   "source": []
  }
 ],
 "metadata": {
  "kernelspec": {
   "display_name": "base",
   "language": "python",
   "name": "python3"
  },
  "language_info": {
   "codemirror_mode": {
    "name": "ipython",
    "version": 3
   },
   "file_extension": ".py",
   "mimetype": "text/x-python",
   "name": "python",
   "nbconvert_exporter": "python",
   "pygments_lexer": "ipython3",
   "version": "3.9.13"
  }
 },
 "nbformat": 4,
 "nbformat_minor": 2
}
