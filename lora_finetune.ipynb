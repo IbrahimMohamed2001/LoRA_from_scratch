{
 "cells": [
  {
   "cell_type": "markdown",
   "metadata": {},
   "source": [
    "# LoRA From Scratch – Implement Low-Rank Adaptation for LLMs in PyTorch"
   ]
  },
  {
   "cell_type": "code",
   "execution_count": 1,
   "metadata": {},
   "outputs": [],
   "source": [
    "import torch\n",
    "import torch.nn as nn\n",
    "import torch.nn.functional as F"
   ]
  },
  {
   "cell_type": "code",
   "execution_count": 10,
   "metadata": {},
   "outputs": [],
   "source": [
    "count_parameters = lambda model: sum(p.numel() for p in model.parameters())\n",
    "count_trainable_parameters = lambda model: sum(p.numel() for p in model.parameters() if p.requires_grad)"
   ]
  },
  {
   "cell_type": "code",
   "execution_count": 6,
   "metadata": {},
   "outputs": [],
   "source": [
    "class LoRALayer(nn.Module):\n",
    "    \"\"\"\n",
    "    Implements the Low-Rank Adaptive Linear Transformation (LoRA) layer.\n",
    "\n",
    "    This layer performs a linear transformation with learnable low-rank factors,\n",
    "    reducing computational cost and potentially improving model performance.\n",
    "\n",
    "    Args:\n",
    "        fan_in: Number of input features (int).\n",
    "        fan_out: Number of output features (int).\n",
    "        rank: Rank of the low-rank factors (int).\n",
    "        alpha: Hyperparameter scaling the output (float).\n",
    "\n",
    "    Attributes:\n",
    "        alpha: Hyperparameter scaling the output (float).\n",
    "        A: Low-rank factor matrix of shape (fan_in, rank) (float tensor).\n",
    "        B: Low-rank factor matrix of shape (rank, fan_out) (float tensor).\n",
    "\n",
    "    Inputs:\n",
    "        x: Input tensor of shape (..., fan_in) (float tensor).\n",
    "\n",
    "    Outputs:\n",
    "        Transformed tensor of shape (..., fan_out) (float tensor).\n",
    "    \"\"\"\n",
    "\n",
    "    def __init__(self, fan_in: int, fan_out: int, rank: int, alpha: float):\n",
    "        super().__init__()\n",
    "        self.alpha = alpha\n",
    "        std = torch.tensor(rank, dtype=torch.float) ** -0.5\n",
    "        self.A = nn.Parameter(torch.randn(fan_in, rank) * std)\n",
    "        self.B = nn.Parameter(torch.zeros(rank, fan_out))\n",
    "\n",
    "    def forward(self, x: torch.Tensor) -> torch.Tensor:\n",
    "        return self.alpha * (x @ self.A @ self.B)"
   ]
  },
  {
   "cell_type": "code",
   "execution_count": 8,
   "metadata": {},
   "outputs": [
    {
     "data": {
      "text/plain": [
       "(100010000, 160000)"
      ]
     },
     "execution_count": 8,
     "metadata": {},
     "output_type": "execute_result"
    }
   ],
   "source": [
    "linear_layer = nn.Linear(10_000, 10_000)\n",
    "lora_layer = LoRALayer(10_000, 10_000, 8, 4)\n",
    "count_parameters(linear_layer), count_parameters(lora_layer) # (10_000 * 10_000 + 10_000), (10_000 * 8 * 2)"
   ]
  },
  {
   "cell_type": "code",
   "execution_count": 11,
   "metadata": {},
   "outputs": [
    {
     "data": {
      "text/plain": [
       "(torch.Size([50, 10000]), torch.Size([50, 10000]))"
      ]
     },
     "execution_count": 11,
     "metadata": {},
     "output_type": "execute_result"
    }
   ],
   "source": [
    "x = torch.randn(50, 10_000)\n",
    "out_linear = linear_layer(x)\n",
    "out_lora = lora_layer(x)\n",
    "out_linear.shape, out_lora.shape # the same shape (50, 10_000)"
   ]
  },
  {
   "cell_type": "code",
   "execution_count": null,
   "metadata": {},
   "outputs": [],
   "source": [
    "class LinearWithLoRA(nn.Module):\n",
    "    \"\"\"\n",
    "    Combines a linear layer with a LoRALayer to perform a combined transformation.\n",
    "\n",
    "    This module wraps a linear layer and adds a LoRALayer in parallel. The\n",
    "    output is the sum of the linear layer's output and the LoRALayer's output.\n",
    "\n",
    "    Args:\n",
    "        linear_layer: The original linear layer to be wrapped (nn.Module).\n",
    "        rank: Rank of the low-rank factors in the LoRALayer (int).\n",
    "        alpha: Hyperparameter scaling the LoRALayer output (float).\n",
    "\n",
    "    Attributes:\n",
    "        linear_layer: Original linear layer (frozen, nn.Module).\n",
    "        alpha: Hyperparameter scaling the LoRALayer output (float).\n",
    "        lora_layer: LoRALayer instance (nn.Module).\n",
    "\n",
    "    Inputs:\n",
    "        x: Input tensor of shape (..., in_features) (float tensor).\n",
    "\n",
    "    Outputs:\n",
    "        Transformed tensor of shape (..., out_features) (float tensor).\n",
    "    \"\"\"\n",
    "\n",
    "    def __init__(self, linear_layer: nn.Module, rank: int, alpha: float):\n",
    "        super().__init__()\n",
    "        self.linear_layer = linear_layer.requires_grad_(False) # Freeze the weights of the linear layer\n",
    "        self.alpha = alpha\n",
    "        self.lora_layer = LoRALayer(linear_layer.in_features, linear_layer.out_features, rank, alpha)\n",
    "\n",
    "    def forward(self, x):\n",
    "        return self.linear_layer(x) + self.lora_layer(x)"
   ]
  },
  {
   "cell_type": "code",
   "execution_count": null,
   "metadata": {},
   "outputs": [],
   "source": []
  }
 ],
 "metadata": {
  "kernelspec": {
   "display_name": "base",
   "language": "python",
   "name": "python3"
  },
  "language_info": {
   "codemirror_mode": {
    "name": "ipython",
    "version": 3
   },
   "file_extension": ".py",
   "mimetype": "text/x-python",
   "name": "python",
   "nbconvert_exporter": "python",
   "pygments_lexer": "ipython3",
   "version": "3.9.13"
  }
 },
 "nbformat": 4,
 "nbformat_minor": 2
}
